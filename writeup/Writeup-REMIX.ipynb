{
 "cells": [
  {
   "cell_type": "markdown",
   "metadata": {},
   "source": [
    "# CS 445 Final Project : Reinforcement Learning with Flappy Bird"
   ]
  },
  {
   "cell_type": "markdown",
   "metadata": {},
   "source": [
    "*by Cole Juracek. Credit to Chuck Anderson for the general algorithm and information from lecture slides, as well as Stack Overflow for general Python/Pygame questions.*"
   ]
  },
  {
   "cell_type": "markdown",
   "metadata": {},
   "source": [
    "## IMPORTANT NOTE\n",
    "\n",
    "I cannot seem to get the game to display within the notebook. All of the code for the game is provided, however, and can be run outside of the notebook."
   ]
  },
  {
   "cell_type": "markdown",
   "metadata": {},
   "source": [
    "## Introduction and Motivation"
   ]
  },
  {
   "cell_type": "markdown",
   "metadata": {},
   "source": [
    "The general goal of this project is two-fold:\n",
    "1. Code a Flappy Bird type game through Python\n",
    "2. Control the box's movement through reinforcment learning to teach it to go through the gap in the walls.\n",
    "    \n",
    "I have always wanted to code some sort of game in Python, and Pygame was the natural choice. It's fairly intuitive, and didn't take as long as I would have thought to code the game. In addition to this, I've thought the concept of reinforcement learning was very interesting. So to learn how to play a game based off nothing more than states, actions, and reinforcements seemed like a great choice for a final project."
   ]
  },
  {
   "cell_type": "markdown",
   "metadata": {},
   "source": [
    "## The Game"
   ]
  },
  {
   "cell_type": "markdown",
   "metadata": {},
   "source": [
    "The game itself will be familiar to anyone who has played Flappy Bird before. The goal is to get the box through the gap between the two scrolling walls. Collision with either the walls or the floor will result in a game over.\n",
    "\n",
    "Implementation of the game was fairly simple, although it took a little while to learn Pygame's API. First, the game is initialized and the boilerplate code is handled. The game is advanced frame-by-frame at a rate of 30FPS. At each frame, the walls scroll forward, and new walls are initialized when these reach the end of the screen. The box's motion is handled by `box.py`, which uses equations for projectile motion to handle gravity. If at any point the space bar is pressed, the box will \"jump\"."
   ]
  },
  {
   "cell_type": "markdown",
   "metadata": {},
   "source": [
    "* Again, the game will run without being displayed. Because of this, it will \"crash\" almost immediately due to falling down and hitting the floor. Copy out of the notebook to actually play."
   ]
  },
  {
   "cell_type": "code",
   "execution_count": 1,
   "metadata": {},
   "outputs": [
    {
     "name": "stdout",
     "output_type": "stream",
     "text": [
      "pygame 2.5.2 (SDL 2.28.3, Python 3.11.0)\n",
      "Hello from the pygame community. https://www.pygame.org/contribute.html\n"
     ]
    }
   ],
   "source": [
    "import random\n",
    "import pygame\n",
    "\n",
    "from flappy_bird import box, game_constants\n",
    "\n",
    "def play_game():\n",
    "\n",
    "    pygame.init()\n",
    "\n",
    "    game_display = pygame.display.set_mode((game_constants.DISPLAY_WIDTH, game_constants.DISPLAY_HEIGHT))\n",
    "    pygame.display.set_caption('Flappy Bird')\n",
    "    clock = pygame.time.Clock()\n",
    "\n",
    "    flappy_box = box.Box(game_constants.DISPLAY_WIDTH * 0.25, game_constants.DISPLAY_HEIGHT * 0.25)\n",
    "\n",
    "    delta_x = -15\n",
    "    wall_x_positions = [x for x in range(game_constants.DISPLAY_WIDTH, 0, delta_x)]\n",
    "    current_wall_position = 0\n",
    "    top_wall_lengths = [x for x in range(50, 260, 30)]\n",
    "    bottom_wall_lengths = [x for x in range(260, 50, -30)]\n",
    "    index = random.randint(0, len(top_wall_lengths) - 1)\n",
    "    top_wall_length, bottom_wall_length = top_wall_lengths[index], bottom_wall_lengths[index]\n",
    "\n",
    "    score = 0\n",
    "    while True:\n",
    "        for event in pygame.event.get():\n",
    "            # If space down, make the box jump\n",
    "            if event.type == pygame.KEYDOWN and event.key == pygame.K_SPACE:\n",
    "                flappy_box.jump()\n",
    "\n",
    "        game_display.fill(game_constants.WHITE)\n",
    "\n",
    "        # Draw the floor\n",
    "        floor = pygame.draw.rect(game_display, game_constants.BLACK, pygame.Rect((0, game_constants.DISPLAY_HEIGHT * 0.92),\n",
    "                                                                  (game_constants.DISPLAY_WIDTH, 50)))\n",
    "\n",
    "        # Draw the walls\n",
    "        top_wall = pygame.Rect((wall_x_positions[current_wall_position], 0), (20, top_wall_length))\n",
    "        top_wall = pygame.draw.rect(game_display, game_constants.BLACK, top_wall)\n",
    "\n",
    "        bottom_wall_start = game_constants.DISPLAY_HEIGHT - floor.height - bottom_wall_length  # Top of bottom wall\n",
    "        bottom_wall = pygame.Rect((wall_x_positions[current_wall_position], bottom_wall_start), (20, bottom_wall_length))\n",
    "        bottom_wall = pygame.draw.rect(game_display, game_constants.BLACK, bottom_wall)\n",
    "\n",
    "        # Update flappy box\n",
    "        flappy_box.update_position(game_display)\n",
    "        flappy_box.increment_time()\n",
    "\n",
    "        # Check for collision with floor + walls\n",
    "        collision_surfaces = [floor, top_wall, bottom_wall]\n",
    "        for collision_surface in collision_surfaces:\n",
    "            if flappy_box.rect.colliderect(collision_surface):\n",
    "                pygame.quit()\n",
    "                print(f'GAME OVER. SCORE: {score}')\n",
    "\n",
    "        # If walls at end of screen, create new walls\n",
    "        current_wall_position += 1\n",
    "        if current_wall_position > len(wall_x_positions) - 1:\n",
    "            index = random.randint(0, len(top_wall_lengths) - 1)\n",
    "            top_wall_length, bottom_wall_length = top_wall_lengths[index], bottom_wall_lengths[index]\n",
    "\n",
    "        current_wall_position = current_wall_position % len(wall_x_positions)\n",
    "\n",
    "        # Update graphics + advance 1 frame\n",
    "        pygame.display.update()\n",
    "        clock.tick(game_constants.FRAMES_PER_SECOND)\n",
    "        score += 1"
   ]
  },
  {
   "cell_type": "code",
   "execution_count": 2,
   "metadata": {},
   "outputs": [
    {
     "name": "stdout",
     "output_type": "stream",
     "text": [
      "GAME OVER. SCORE: 39\n"
     ]
    },
    {
     "ename": "error",
     "evalue": "video system not initialized",
     "output_type": "error",
     "traceback": [
      "\u001b[0;31m---------------------------------------------------------------------------\u001b[0m",
      "\u001b[0;31merror\u001b[0m                                     Traceback (most recent call last)",
      "Cell \u001b[0;32mIn[2], line 1\u001b[0m\n\u001b[0;32m----> 1\u001b[0m \u001b[43mplay_game\u001b[49m\u001b[43m(\u001b[49m\u001b[43m)\u001b[49m\n",
      "Cell \u001b[0;32mIn[1], line 65\u001b[0m, in \u001b[0;36mplay_game\u001b[0;34m()\u001b[0m\n\u001b[1;32m     62\u001b[0m current_wall_position \u001b[38;5;241m=\u001b[39m current_wall_position \u001b[38;5;241m%\u001b[39m \u001b[38;5;28mlen\u001b[39m(wall_x_positions)\n\u001b[1;32m     64\u001b[0m \u001b[38;5;66;03m# Update graphics + advance 1 frame\u001b[39;00m\n\u001b[0;32m---> 65\u001b[0m \u001b[43mpygame\u001b[49m\u001b[38;5;241;43m.\u001b[39;49m\u001b[43mdisplay\u001b[49m\u001b[38;5;241;43m.\u001b[39;49m\u001b[43mupdate\u001b[49m\u001b[43m(\u001b[49m\u001b[43m)\u001b[49m\n\u001b[1;32m     66\u001b[0m clock\u001b[38;5;241m.\u001b[39mtick(game_constants\u001b[38;5;241m.\u001b[39mFRAMES_PER_SECOND)\n\u001b[1;32m     67\u001b[0m score \u001b[38;5;241m+\u001b[39m\u001b[38;5;241m=\u001b[39m \u001b[38;5;241m1\u001b[39m\n",
      "\u001b[0;31merror\u001b[0m: video system not initialized"
     ]
    }
   ],
   "source": [
    "play_game()"
   ]
  },
  {
   "cell_type": "markdown",
   "metadata": {},
   "source": [
    "A brief note: there will be some relaxed constraints on the game such that the reinforcement learning problem is simpler. Namely, the walls will not appear in random positions, but rather in one fixed position."
   ]
  },
  {
   "cell_type": "markdown",
   "metadata": {},
   "source": [
    "## Reinforcement Learning: An Overview"
   ]
  },
  {
   "cell_type": "markdown",
   "metadata": {},
   "source": [
    "The general premise of reinforcement learning is to \"reward\" an agent with reinforcements for positive moves toward a goal. This is accomplished via 3 key components:\n",
    "1. *state*: any information necessary to represent the agent's current state\n",
    "2. *actions*: the set of available actions for the agent in a given state\n",
    "3. *reinforcement*: represents how well received the current (state, action) pair is\n",
    "\n",
    "Ideally, the agent would like to pick the action from a given state with the highest reinforcement. But not only should the agent account for the immediate future, it should also account for future states down the line. Because of this, the agent should pick a move based off of the summation of all returns from the future states. This function that predicts the sum of future reinforcements is known as the *Q-function*, and utilizing it in reinforcement learning is known as *Q-Learning*. The general idea is for the agent to examine all of the Q-values for its (state, action) pairs, and pick the move with the highest value.\n",
    "\n",
    "We would like to update the Q-values to be more accurate over time as the agent explores the problem. There are two main approaches to this. The first is known as *Monte-Carlo*, where Q(state, action) is updated through the average over many trials. Another approach, and the one used for this project, updates Q(state, action) via the next state, action, and reinforcement in a process known as *temporal difference*:\n",
    "\n",
    "Finally, we run into the dilema of exploration vs. exploitation in reinforcement learning. This problem is stated as the following: should the agent attempt to learn as much as possible about the environment to fill its Q-table (exploration)? Or should the agent only pick the \"greedy\" action (the one with the highest Q-value) from each state (exploitation)? This issue is resolved by the epsilon parameter. During each iteration, decay epsilon by multiplying it by some fraction (epsilon \"decay\"). The lower epsilon becomes, the more likely the agent is to pick the greedy option. In effect, this will cause the agent to move from a policy of exploration toward exploitation over the course of its journey."
   ]
  },
  {
   "cell_type": "markdown",
   "metadata": {},
   "source": [
    "## Reinforcement Learning Applied to Flappy Bird"
   ]
  },
  {
   "cell_type": "markdown",
   "metadata": {},
   "source": [
    "For the game of flappy bird, we will define the state as the y-position, and the actions as {0, 1}, corresponding to not jumping and jumping respectively. The reinforcement will more or less be negligible except for the case when the box is colliding with a wall or floor. In this case, the reinforcement for the (state, action) pair will be assigned as low as possible; this corresponds to a game over and is the only real issue we're trying to avoid. If we note the agent is in the gap between the two walls, we will also provide a *positive* reinforcement.\n",
    "\n",
    "There is no end state in this game; collisions with the floor and walls will not stop it. Each frame will be considered a new \"iteration\", and the box will move from exploration to exploitation over the course of around 1 minute. "
   ]
  },
  {
   "cell_type": "markdown",
   "metadata": {},
   "source": [
    "The default parameters to the game are as follows:\n",
    "- *epsilon*: 1.0 (standard)\n",
    "- *epsilon_decay*: 0.999\n",
    "    - While this might seem like a high value, it is being applied every frame, so epsilon will still decay in a reasonable time.\n",
    "    \n",
    "    \n",
    "- *learning_rate*: 0.8\n",
    "    - This is how much \"weight\" we should give to the previous Q-value based off the current temporal difference formula. A value of 1.0 will simply be the formula itself. We will choose a default of slightly less."
   ]
  },
  {
   "cell_type": "markdown",
   "metadata": {},
   "source": [
    "Games will be run for a length of two minutes, and the position of the box will be recorded on each frame. There is no means for the game stopping, so interrupting the kernel is necessary; the results will still be saved in 'y_positions'."
   ]
  },
  {
   "cell_type": "code",
   "execution_count": 6,
   "metadata": {},
   "outputs": [],
   "source": [
    "import random\n",
    "import pygame\n",
    "import sys\n",
    "\n",
    "from flappy_bird import box, game_constants\n",
    "\n",
    "moves = []\n",
    "y_positions = []"
   ]
  },
  {
   "cell_type": "code",
   "execution_count": 13,
   "metadata": {},
   "outputs": [],
   "source": [
    "def learn_game(epsilon_decay=0.999, learning_rate=0.8, reinf_function=None):\n",
    "    pygame.init()\n",
    "\n",
    "    game_display = pygame.display.set_mode((game_constants.DISPLAY_WIDTH, game_constants.DISPLAY_HEIGHT))\n",
    "    pygame.display.set_caption('Flappy Bird')\n",
    "    clock = pygame.time.Clock()\n",
    "\n",
    "    flappy_box = box.Box(game_constants.DISPLAY_WIDTH * 0.25, game_constants.DISPLAY_HEIGHT * 0.5)\n",
    "\n",
    "    delta_x = -15\n",
    "    wall_x_positions = [x for x in range(game_constants.DISPLAY_WIDTH, 0, delta_x)]\n",
    "    current_wall_position = 0\n",
    "\n",
    "    Q = {}  # Lookup table for Q-values\n",
    "    epsilon = 1.0\n",
    "    valid_moves = [0, 1]  # Where 0 = Do nothing\n",
    "                          #       1 = Jump\n",
    "    state = flappy_box.y_pos\n",
    "\n",
    "    # Return a new move\n",
    "    def make_move(state, move):\n",
    "        if move == 1:\n",
    "            flappy_box.jump()\n",
    "\n",
    "        # Update flappy box\n",
    "        flappy_box.update_position(game_display)\n",
    "        flappy_box.increment_time()\n",
    "\n",
    "        return flappy_box.y_pos\n",
    "\n",
    "    num_moves = 0\n",
    "    epsilon_counter = 0\n",
    "    \n",
    "    while True:\n",
    "        for event in pygame.event.get():\n",
    "            x = 4\n",
    "\n",
    "        game_display.fill(game_constants.WHITE)\n",
    "        # Draw the floor\n",
    "        floor = pygame.draw.rect(game_display, game_constants.BLACK, pygame.Rect((0, game_constants.DISPLAY_HEIGHT * 0.92),\n",
    "                                                                  (game_constants.DISPLAY_WIDTH, 50)))\n",
    "        # Draw the walls\n",
    "        top_wall = pygame.Rect((wall_x_positions[current_wall_position], 0), (20, 150))\n",
    "        top_wall = pygame.draw.rect(game_display, game_constants.BLACK, top_wall)\n",
    "        bottom_wall = pygame.Rect((wall_x_positions[current_wall_position], 350), (20, 250))\n",
    "        bottom_wall = pygame.draw.rect(game_display, game_constants.BLACK, bottom_wall)\n",
    "\n",
    "        # TODO: Consider default value; might want to make very positive vs. very negative\n",
    "        # Pick a move\n",
    "        epsilon *= epsilon_decay\n",
    "        if random.uniform(0, 1) < epsilon:  # Random move\n",
    "            move = random.choice(valid_moves)\n",
    "        else:  # Greedy move\n",
    "            q_values = [Q.get((state, action), -100) for action in valid_moves]\n",
    "            move = valid_moves[q_values.index(max(q_values))]\n",
    "\n",
    "        new_state = make_move(state, move)\n",
    "\n",
    "        # TODO: Consider different default value\n",
    "        # If (state, move) tuple does not exist, add it to Q-table\n",
    "        if (state, move) not in Q:\n",
    "            Q[(state, move)] = -100\n",
    "\n",
    "        # Check for collision with floor + walls\n",
    "        # If there is a collision, we should assign with as much negative reinforcement as possible, as this would\n",
    "        #   be a game over.\n",
    "        collision_surfaces = [floor, top_wall, bottom_wall]\n",
    "        if any([flappy_box.rect.colliderect(surface) for surface in collision_surfaces])\n",
    "            Q[(state, move)] = -sys.maxsize\n",
    "        # elif 200 <= state <= 300 and -10 <= flappy_box.y_velocity <= 10:\n",
    "            # Q[(state, move)] = sys.maxsize\n",
    "        # elif state == 0:\n",
    "            # Q[(state, move)] = -sys.maxsize\n",
    "        elif 225 <= state <= 275 and 175 <= top_wall.center[0] <= 225:\n",
    "            Q[(state, move)] = 100\n",
    "\n",
    "        # If walls at end of screen, create new walls\n",
    "        current_wall_position += 1\n",
    "        current_wall_position = current_wall_position % len(wall_x_positions)\n",
    "\n",
    "        # Update graphics + advance 1 frame\n",
    "        pygame.display.update()\n",
    "        clock.tick(game_constants.FRAMES_PER_SECOND)\n",
    "\n",
    "        # TODO: Consider adding reinforcement\n",
    "        # Update Q-table of the old (state, move) tuple by calculating the temporal difference error.\n",
    "        # Reinforcement of -1\n",
    "        if num_moves > 1 and reinf_function is None:\n",
    "            Q[(old_state, old_move)] += (learning_rate * (Q[state, move] - Q[(old_state, old_move)]))\n",
    "        elif num_moves > 1 and reinf_function is not None:\n",
    "            Q[(old_state, old_move)] += (learning_rate * (reinf_function(state, flappy_box) + Q[state, move] - Q[(old_state, old_move)]))\n",
    "            \n",
    "        # Update moves + states for next move\n",
    "        old_state, old_move = state, move\n",
    "        state = new_state\n",
    "        num_moves += 1\n",
    "\n",
    "        if epsilon_counter % 100 == 0:\n",
    "            print(f'Epsilon: {epsilon}')\n",
    "        y_positions.append(state)\n",
    "\n",
    "        epsilon_counter += 1"
   ]
  },
  {
   "cell_type": "code",
   "execution_count": 14,
   "metadata": {},
   "outputs": [
    {
     "name": "stdout",
     "output_type": "stream",
     "text": [
      "Epsilon:  0.999\n",
      "Epsilon:  0.9038873549665959\n",
      "Epsilon:  0.8178301806491574\n",
      "Epsilon:  0.7399663251239436\n"
     ]
    },
    {
     "ename": "KeyboardInterrupt",
     "evalue": "",
     "output_type": "error",
     "traceback": [
      "\u001b[0;31m---------------------------------------------------------------------------\u001b[0m",
      "\u001b[0;31mKeyboardInterrupt\u001b[0m                         Traceback (most recent call last)",
      "Cell \u001b[0;32mIn[14], line 1\u001b[0m\n\u001b[0;32m----> 1\u001b[0m \u001b[43mlearn_game\u001b[49m\u001b[43m(\u001b[49m\u001b[43m)\u001b[49m\n",
      "Cell \u001b[0;32mIn[13], line 82\u001b[0m, in \u001b[0;36mlearn_game\u001b[0;34m(epsilon_decay, learning_rate, reinf_function)\u001b[0m\n\u001b[1;32m     80\u001b[0m \u001b[38;5;66;03m# Update graphics + advance 1 frame\u001b[39;00m\n\u001b[1;32m     81\u001b[0m pygame\u001b[38;5;241m.\u001b[39mdisplay\u001b[38;5;241m.\u001b[39mupdate()\n\u001b[0;32m---> 82\u001b[0m \u001b[43mclock\u001b[49m\u001b[38;5;241;43m.\u001b[39;49m\u001b[43mtick\u001b[49m\u001b[43m(\u001b[49m\u001b[43mgame_constants\u001b[49m\u001b[38;5;241;43m.\u001b[39;49m\u001b[43mFRAMES_PER_SECOND\u001b[49m\u001b[43m)\u001b[49m\n\u001b[1;32m     84\u001b[0m \u001b[38;5;66;03m# TODO: Consider adding reinforcement\u001b[39;00m\n\u001b[1;32m     85\u001b[0m \u001b[38;5;66;03m# Update Q-table of the old (state, move) tuple by calculating the temporal difference error.\u001b[39;00m\n\u001b[1;32m     86\u001b[0m \u001b[38;5;66;03m# Reinforcement of -1\u001b[39;00m\n\u001b[1;32m     87\u001b[0m \u001b[38;5;28;01mif\u001b[39;00m num_moves \u001b[38;5;241m>\u001b[39m \u001b[38;5;241m1\u001b[39m \u001b[38;5;129;01mand\u001b[39;00m reinf_function \u001b[38;5;129;01mis\u001b[39;00m \u001b[38;5;28;01mNone\u001b[39;00m:\n",
      "\u001b[0;31mKeyboardInterrupt\u001b[0m: "
     ]
    }
   ],
   "source": [
    "learn_game()"
   ]
  },
  {
   "cell_type": "code",
   "execution_count": 16,
   "metadata": {},
   "outputs": [],
   "source": [
    "import matplotlib.pyplot as plt\n",
    "%matplotlib inline"
   ]
  },
  {
   "cell_type": "code",
   "execution_count": 17,
   "metadata": {},
   "outputs": [
    {
     "name": "stdout",
     "output_type": "stream",
     "text": [
      "375\n"
     ]
    },
    {
     "data": {
      "image/png": "[encoded data removed]",
      "text/plain": [
       "<Figure size 640x480 with 1 Axes>"
      ]
     },
     "metadata": {},
     "output_type": "display_data"
    }
   ],
   "source": [
    "plt.plot(y_positions[0::10])\n",
    "print(len(y_positions))"
   ]
  },
  {
   "cell_type": "markdown",
   "metadata": {},
   "source": [
    "We can definitely see an improvement over time. Ideally, we want to be around 250, as this is the middle of the gap between the two walls. Toward the beginning, the box is at 0 (top of the screen) the majority of the time, as multiple '0' actions are required to fall, while only one '1' action (jump) is needed to push back toward the top of the screen. However, the box eventually learns that multiple falling actions might be a good to escape the ceiling and head toward the gap."
   ]
  },
  {
   "cell_type": "markdown",
   "metadata": {},
   "source": [
    "## Tweaking Parameters"
   ]
  },
  {
   "cell_type": "markdown",
   "metadata": {},
   "source": [
    "There are only two real parameters to change here: the learning rate and epsilon decay. We'll try two radically different values for both, one higher and one lower, and examine the results."
   ]
  },
  {
   "cell_type": "markdown",
   "metadata": {},
   "source": [
    "### Changing epsilon decay"
   ]
  },
  {
   "cell_type": "code",
   "execution_count": null,
   "metadata": {},
   "outputs": [
    {
     "name": "stdout",
     "output_type": "stream",
     "text": [
      "Epsilon:  0.99\n",
      "Epsilon:  0.36237201786049694\n",
      "Epsilon:  0.13263987810938213\n",
      "Epsilon:  0.0485504851305729\n"
     ]
    }
   ],
   "source": [
    "y_positions = []\n",
    "learn_game(epsilon_decay=0.99) # Epsilon decays much quicker"
   ]
  },
  {
   "cell_type": "code",
   "execution_count": null,
   "metadata": {},
   "outputs": [],
   "source": [
    "plt.plot(y_positions[0::10])\n",
    "plt.title('Positions over time with epsilon = 0.99')"
   ]
  },
  {
   "cell_type": "markdown",
   "metadata": {},
   "source": [
    "As expected, this epsilon decay value brought epsilon down too quickly. The box seemed to learn that hugging the top of the screen wasn't optimal, but it very infrequently came between the gap in the wall. This is presumably because it didn't explore enough."
   ]
  },
  {
   "cell_type": "code",
   "execution_count": null,
   "metadata": {},
   "outputs": [],
   "source": [
    "y_positions = []\n",
    "epsilon_decay = 0.9999\n",
    "learn_game(epsilon_decay=0.9999) # Epsilon decays much slower"
   ]
  },
  {
   "cell_type": "code",
   "execution_count": null,
   "metadata": {},
   "outputs": [],
   "source": [
    "plt.plot(y_positions[0::10])\n",
    "plt.title(f'Positions over time with epsilon = {epsilon_decay}')"
   ]
  },
  {
   "cell_type": "markdown",
   "metadata": {},
   "source": [
    "At 2 minutes, epsilon was not able to decay to a value even close to 0. Because of this, it was frequently picking a random move even at the end, which more often than not caused the box to stay toward the top of the screen. This result could be interesting however; let's pick an epsilon in the middle and increase the time to 5 minutes:"
   ]
  },
  {
   "cell_type": "code",
   "execution_count": null,
   "metadata": {},
   "outputs": [],
   "source": [
    "y_positions = []\n",
    "epsilon_decay = 0.9995\n",
    "learn_game(epsilon_decay=epsilon_decay) # Epsilon decays a bit slower"
   ]
  },
  {
   "cell_type": "code",
   "execution_count": null,
   "metadata": {},
   "outputs": [],
   "source": [
    "plt.plot(y_positions[0::10])\n",
    "plt.title(f'Positions over time with epsilon = {epsilon_decay}')"
   ]
  },
  {
   "cell_type": "markdown",
   "metadata": {},
   "source": [
    "Toward the very end, the agent seemed to be performing at its best compared to other epsilon values. However, we did also train this for 5 minutes vs. 2 minutes. If anything, this just shows that longer training times might be necessary for optimal results."
   ]
  },
  {
   "cell_type": "markdown",
   "metadata": {},
   "source": [
    "### Changing the learning rate"
   ]
  },
  {
   "cell_type": "markdown",
   "metadata": {},
   "source": [
    "I don't expect changing the learning rate will have as big of an effect as changing the epsilon decay, as the Q-values being altered are very large. However, we will see:"
   ]
  },
  {
   "cell_type": "code",
   "execution_count": null,
   "metadata": {},
   "outputs": [],
   "source": [
    "y_positions = []\n",
    "learning_rate = 0.3\n",
    "learn_game(learning_rate=learning_rate) # Learn less from the immediate future"
   ]
  },
  {
   "cell_type": "code",
   "execution_count": null,
   "metadata": {},
   "outputs": [],
   "source": [
    "plt.plot(y_positions[0::10])\n",
    "plt.title(f'Positions over time with learning rate = {learning_rate}')"
   ]
  },
  {
   "cell_type": "markdown",
   "metadata": {},
   "source": [
    "Contrary to my prediction, this actually seemed to have a substantial effect, as we can see from the graph. The box tended to hover around 250 a good amount of time toward the end."
   ]
  },
  {
   "cell_type": "code",
   "execution_count": null,
   "metadata": {},
   "outputs": [],
   "source": [
    "y_positions = []\n",
    "learning_rate = 1.3\n",
    "learn_game(learning_rate=learning_rate) # \"Learn\" more from the immediate future"
   ]
  },
  {
   "cell_type": "code",
   "execution_count": null,
   "metadata": {},
   "outputs": [],
   "source": [
    "plt.plot(y_positions[0::10])\n",
    "plt.title(f'Positions over time with learning rate = {learning_rate}')"
   ]
  },
  {
   "cell_type": "markdown",
   "metadata": {},
   "source": [
    "This learning rate seemed to make the agent perform much worse. It was giving too much weight in the temporal difference formula. We do not see the agent come close to converging even after two minutes."
   ]
  },
  {
   "cell_type": "markdown",
   "metadata": {},
   "source": [
    "### Adding a Reinforcement Function"
   ]
  },
  {
   "cell_type": "markdown",
   "metadata": {},
   "source": [
    "Previously, we were not that concerned with what the box was doing when it was far away from the walls; we only cared about what happened when it was immediately around the walls. However, a simple reinforcement function might help the box stay near the center, such that it might converge quicker on good Q-values:"
   ]
  },
  {
   "cell_type": "code",
   "execution_count": null,
   "metadata": {},
   "outputs": [],
   "source": [
    "# If the box is in the top half of the screen, favor positive velocities\n",
    "# Else, it's in the bottom half, so we should favor negative velocities\n",
    "def reinforcement2(state, box):\n",
    "    if state > 250:  # Bottom half, favor negative velocities\n",
    "        return box.y_velocity * -1\n",
    "    else:  # Top half\n",
    "        return box.y_velocity"
   ]
  },
  {
   "cell_type": "markdown",
   "metadata": {},
   "source": [
    "One might think that reinforcing based off of position would be a simple idea. However, this turned out to be more complicated than initially thought. If the box is in the top half and travelling on an upward arc, a move of 0 (doing nothing) would be desired. Yet all the algorithm would see is a \"nothing\" move that moved the box upward. Because of this, favorable moves might be given bad values, so velocity was chosen instead."
   ]
  },
  {
   "cell_type": "code",
   "execution_count": null,
   "metadata": {},
   "outputs": [],
   "source": [
    "y_positions = []\n",
    "learn_game(reinf_function=reinforcement2)"
   ]
  },
  {
   "cell_type": "code",
   "execution_count": null,
   "metadata": {},
   "outputs": [],
   "source": [
    "plt.plot(y_positions[0::10])\n",
    "plt.title('Positions over time with velocity reinforcement function')"
   ]
  },
  {
   "cell_type": "markdown",
   "metadata": {},
   "source": [
    "Overall, adding the reinforcement function caused our agent to perform the best. We can see a definitive progression toward 250. But most importantly, once the agent learned this was a good place to be, it didn't seem to regress back toward constantly hugging the top."
   ]
  },
  {
   "cell_type": "markdown",
   "metadata": {},
   "source": [
    "## Results"
   ]
  },
  {
   "cell_type": "markdown",
   "metadata": {},
   "source": [
    "The two parameters seemed to have a large effect on the performance of the agent, although the default parameters performed at an acceptable level. The default value of epsilon seemed to perform best at the two minute mark, although I have little doubt that epsilon = 0.9999 would outclass this given noticeably longer times (10+ minutes). The agent also seemed to respond well to a lower-than-default learning rate, where the Q-values were updated in a less extreme manner. Finally, the simple reinforcement function I've implemented seemed to help more than not, and gave the agent an idea for where to aim even when near no walls."
   ]
  },
  {
   "cell_type": "markdown",
   "metadata": {},
   "source": [
    "## Conclusion and Challenges Faced"
   ]
  },
  {
   "cell_type": "markdown",
   "metadata": {},
   "source": [
    "Overall, I would say the assignment was a success. It was a great way to apply machine learning concepts to a relevant example. It taught me how to look for such abstract concepts as \"state\" and \"action\" when they weren't explicitly defined.\n",
    "\n",
    "The main challenge of the assignment was not the machine learning; it was working with Pygame. I've never coded a game in it before, so I wasn't really sure how to translate my thoughts to code. Luckily, Pygame has good documentation and the common questions that I needed had been answered before. Moving to the machine learning side, the main issue I faced was debugging. When the game wasn't working as desired, it was hard to tell if it was my fault in the game logic, the algorithm, or how I had defined Q-learning. The only real means I had of examining it was to watch the game unfold on screen.\n",
    "\n",
    "Moving forward, I would like to get the reinforcement learning working with random walls, and perhaps implement a better reinforcement function such that the solution might converge faster."
   ]
  }
 ],
 "metadata": {
  "kernelspec": {
   "display_name": "Python 3 (ipykernel)",
   "language": "python",
   "name": "python3"
  },
  "language_info": {
   "codemirror_mode": {
    "name": "ipython",
    "version": 3
   },
   "file_extension": ".py",
   "mimetype": "text/x-python",
   "name": "python",
   "nbconvert_exporter": "python",
   "pygments_lexer": "ipython3",
   "version": "3.11.0"
  }
 },
 "nbformat": 4,
 "nbformat_minor": 4
}
